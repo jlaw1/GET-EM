{
 "cells": [
  {
   "cell_type": "code",
   "execution_count": 1,
   "metadata": {},
   "outputs": [],
   "source": [
    "import requests\n",
    "import json\n",
    "import time\n",
    "#pandas as pd\n",
    "import numpy as np\n",
    "import pandas as np \n",
    "from pandas.io.json import json_normalize "
   ]
  },
  {
   "cell_type": "code",
   "execution_count": null,
   "metadata": {},
   "outputs": [],
   "source": []
  },
  {
   "cell_type": "code",
   "execution_count": null,
   "metadata": {},
   "outputs": [],
   "source": [
    "input_file = open('opendota_matches/match_list/league_id_10979_starladder_s2.json') \n",
    "matches = json.load(input_file) # !! LIST OF MATCH_ID's FOR THE EVENT\n",
    "input_file.close()"
   ]
  },
  {
   "cell_type": "code",
   "execution_count": null,
   "metadata": {},
   "outputs": [],
   "source": [
    "matchdata = open('opendota_matches/matches/league_id_10979_starladder_s2_matchdata.json') \n",
    "data = json.load(matchdata)\n",
    "matchdata.close()"
   ]
  },
  {
   "cell_type": "code",
   "execution_count": null,
   "metadata": {},
   "outputs": [],
   "source": [
    "with open('picks_bans/leagueid_10979_starladder_picks_bans.csv', 'w') as picks: # Open \n",
    "    for m in matches:\n",
    "\t\tcurmatch = data['m']['picks']\n",
    "\t\tif 'picks_bans' in curmatch: \n",
    "\t\t\tprint( 'm' + str(match_id))\n",
    "\t\t\tpicks.write(str(match_id) + \",\") # match_id\n",
    "\t\t\tpicks.write(str(dire_team_id) + \",\") # team playing on dire side \n",
    "\t\t\tpicks.write(str(radiant_team_id) + \",\") # team playin on radiant side\n",
    "\t\t\tpicks.write(str(curmatch['radiant_win']) + \",\") # match result \n",
    "\t\t\tpicks.write(str(curmatch['duration'])) # length of match \n",
    "\t\t\tpicklist = curmatch['picks_bans'] # define picks_bans feature as 'picklist'\n",
    "\t\t\tfor i in range(len(picklist)):\n",
    "\t\t\t\tpicks.write(\",\" + str(picklist[i]['is_pick']) + \",\" + str(picklist[i]['team']) + \",\" + str(picklist[i]['hero_id'])) \n",
    "\t\t\tmatches.write(\"\\n\")\n",
    "close()"
   ]
  },
  {
   "cell_type": "code",
   "execution_count": null,
   "metadata": {},
   "outputs": [],
   "source": [
    "#match_id = curmatch['match_id']\n",
    "\t\t# lastseqnum = curmatch['match_seq_num']\n",
    "\t\t#print(str(i + 1) + \"/100 \" + str(match_id))\n",
    "\t\t#print(str(match_id))"
   ]
  }
 ],
 "metadata": {
  "kernelspec": {
   "display_name": "Python 3",
   "language": "python",
   "name": "python3"
  },
  "language_info": {
   "codemirror_mode": {
    "name": "ipython",
    "version": 3
   },
   "file_extension": ".py",
   "mimetype": "text/x-python",
   "name": "python",
   "nbconvert_exporter": "python",
   "pygments_lexer": "ipython3",
   "version": "3.7.4"
  }
 },
 "nbformat": 4,
 "nbformat_minor": 4
}
