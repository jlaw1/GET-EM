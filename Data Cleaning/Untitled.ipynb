{
 "cells": [
  {
   "cell_type": "code",
   "execution_count": 1,
   "metadata": {},
   "outputs": [],
   "source": [
    "import json\n",
    "import requests\n",
    "import numpy as np\n",
    "import pandas as pd\n",
    "from pandas.io.json import json_normalize \n",
    "pd.set_option('display.max_columns', 500)\n",
    "pd.set_option('display.max_rows', 500)"
   ]
  },
  {
   "cell_type": "markdown",
   "metadata": {},
   "source": [
    "SCRIPT ON HOW TO WRITE PICKS/BANS\n",
    "https://github.com/jlaw1/dota2drafts/blob/master/httprequest.py"
   ]
  },
  {
   "cell_type": "code",
   "execution_count": 3,
   "metadata": {},
   "outputs": [],
   "source": [
    "# source: https://www.kaggle.com/devinanzelmo/setting-up-a-prediction-problem-dota-2/data\n",
    "# possible flatten method\n",
    "def unstack_simplify(df):\n",
    "    return df.unstack().iloc[10:].reset_index(drop=True)"
   ]
  },
  {
   "cell_type": "code",
   "execution_count": null,
   "metadata": {},
   "outputs": [],
   "source": []
  },
  {
   "cell_type": "code",
   "execution_count": 2,
   "metadata": {},
   "outputs": [
    {
     "ename": "NameError",
     "evalue": "name 'Index' is not defined",
     "output_type": "error",
     "traceback": [
      "\u001b[0;31m---------------------------------------------------------------------------\u001b[0m",
      "\u001b[0;31mNameError\u001b[0m                                 Traceback (most recent call last)",
      "\u001b[0;32m<ipython-input-2-902590c4a980>\u001b[0m in \u001b[0;36m<module>\u001b[0;34m\u001b[0m\n\u001b[1;32m      1\u001b[0m \u001b[0;31m# https://github.com/codexponent/dota2-draft-analysis/blob/master/draft-analysis.ipynb\u001b[0m\u001b[0;34m\u001b[0m\u001b[0;34m\u001b[0m\u001b[0;34m\u001b[0m\u001b[0m\n\u001b[1;32m      2\u001b[0m \u001b[0;34m\u001b[0m\u001b[0m\n\u001b[0;32m----> 3\u001b[0;31m Index(['match_id', 'radiant_win', 'duration', \n\u001b[0m\u001b[1;32m      4\u001b[0m        \u001b[0;34m'1is_pick'\u001b[0m\u001b[0;34m,\u001b[0m \u001b[0;34m'1team_id'\u001b[0m\u001b[0;34m,\u001b[0m \u001b[0;34m'1hero_id'\u001b[0m\u001b[0;34m,\u001b[0m\u001b[0;34m\u001b[0m\u001b[0;34m\u001b[0m\u001b[0m\n\u001b[1;32m      5\u001b[0m        \u001b[0;34m'2is_pick'\u001b[0m\u001b[0;34m,\u001b[0m \u001b[0;34m'2team_id'\u001b[0m\u001b[0;34m,\u001b[0m \u001b[0;34m'2hero_id'\u001b[0m\u001b[0;34m,\u001b[0m\u001b[0;34m\u001b[0m\u001b[0;34m\u001b[0m\u001b[0m\n",
      "\u001b[0;31mNameError\u001b[0m: name 'Index' is not defined"
     ]
    }
   ],
   "source": [
    "# https://github.com/codexponent/dota2-draft-analysis/blob/master/draft-analysis.ipynb\n",
    "\n",
    "# Want to convert 'picks_ban' into the following:\n",
    "picks_bans = \\\\\n",
    "    (['match_id', 'radiant_win', 'duration', \n",
    "       '1is_pick', '1team_id', '1hero_id', \n",
    "       '2is_pick', '2team_id', '2hero_id', \n",
    "       '3is_pick', '3team_id', '3hero_id', \n",
    "       '4is_pick', '4team_id', '4hero_id', \n",
    "       '5is_pick', '5team_id', '5hero_id', \n",
    "       '6is_pick', '6team_id', '6hero_id', \n",
    "       '7is_pick', '7team_id', '7hero_id', \n",
    "       '8is_pick', '8team_id', '8hero_id', \n",
    "       '9is_pick', '9team_id', '9hero_id', \n",
    "       '10is_pick', '10team_id', '10hero_id', \n",
    "       '11is_pick', '11team_id', '11hero_id', \n",
    "       '12is_pick', '12team_id', '12hero_id',\n",
    "       '13is_pick', '13team_id', '13hero_id', \n",
    "       '14is_pick', '14team_id', '14hero_id', \n",
    "       '15is_pick', '15team_id', '15hero_id', \n",
    "       '16is_pick', '16team_id', '16hero_id', \n",
    "       '17is_pick', '17team_id', '17hero_id',\n",
    "       '18is_pick', '18team_id', '18hero_id', \n",
    "       '19is_pick', '19team_id', '19hero_id',\n",
    "       '20is_pick', '20team_id', '20hero_id',\n",
    "       '21is_pick', '21team_id', '21hero_id'],\n",
    "      dtype='object')"
   ]
  },
  {
   "cell_type": "code",
   "execution_count": null,
   "metadata": {},
   "outputs": [],
   "source": [
    "['match_id', 'radiant_win', 'duration', '1is_pick', '1team_id',\n",
    "       '1hero_id', '2is_pick', '2team_id', '2hero_id', '3is_pick', '3team_id',\n",
    "       '3hero_id', '4is_pick', '4team_id', '4hero_id', '5is_pick', '5team_id',\n",
    "       '5hero_id', '6is_pick', '6team_id', '6hero_id', '7is_pick', '7team_id',\n",
    "       '7hero_id', '8is_pick', '8team_id', '8hero_id', '9is_pick', '9team_id',\n",
    "       '9hero_id', '10is_pick', '10team_id', '10hero_id', '11is_pick',\n",
    "       '11team_id', '11hero_id', '12is_pick', '12team_id', '12hero_id',\n",
    "       '13is_pick', '13team_id', '13hero_id', '14is_pick', '14team_id',\n",
    "       '14hero_id', '15is_pick', '15team_id', '15hero_id', '16is_pick',\n",
    "       '16team_id', '16hero_id', '17is_pick', '17team_id', '17hero_id',\n",
    "       '18is_pick', '18team_id', '18hero_id', '19is_pick', '19team_id',\n",
    "       '19hero_id', '20is_pick', '20team_id', '20hero_id']"
   ]
  },
  {
   "cell_type": "code",
   "execution_count": null,
   "metadata": {},
   "outputs": [],
   "source": [
    "cfilter =[\n",
    "'match_id',\n",
    " 'barracks_status_dire',\n",
    " 'barracks_status_radiant',\n",
    " 'dire_score',\n",
    " 'dire_team_id',\n",
    " 'draft_timings',\n",
    " 'duration',\n",
    " 'first_blood_time',\n",
    " 'leagueid',\n",
    " 'match_seq_num',\n",
    " 'objectives',\n",
    " 'picks_bans',\n",
    " 'radiant_gold_adv',\n",
    " 'radiant_score',\n",
    " 'radiant_team_id',\n",
    " 'radiant_win',\n",
    " 'radiant_xp_adv',\n",
    " 'skill',\n",
    " 'start_time',\n",
    " 'teamfights',\n",
    " 'tower_status_dire',\n",
    " 'tower_status_radiant',\n",
    " 'version',\n",
    " 'replay_salt',\n",
    " 'series_id',\n",
    " 'series_type',\n",
    " 'players',\n",
    " 'patch',\n",
    " 'region',\n",
    " 'throw',\n",
    " 'loss',\n",
    " 'replay_url'\n",
    "]"
   ]
  },
  {
   "cell_type": "code",
   "execution_count": null,
   "metadata": {},
   "outputs": [],
   "source": [
    "https://github.com/dotascience/kaggle-dota2-win-prediction/blob/master/ContestDescription.ipynb\n",
    "\n",
    "X_pick = np.zeros((data.shape[0], N))\n",
    "\n",
    "for i, match_id in enumerate(data.index):\n",
    "    for p in xrange(5):\n",
    "        X_pick[i, data.ix[match_id, 'r%d_hero' % (p+1)]-1] = 1\n",
    "        X_pick[i, data.ix[match_id, 'd%d_hero' % (p+1)]-1] = -1\n",
    "for i, match_id in enumerate(data.index):\n",
    "    for p in xrange(5):\n",
    "        X_pick[i, data.ix[match_id, 'r%d_hero' % (p+1)]-1] = 1\n",
    "        X_pick[i, data.ix[match_id, 'd%d_hero' % (p+1)]-1] = -1"
   ]
  },
  {
   "cell_type": "code",
   "execution_count": null,
   "metadata": {},
   "outputs": [],
   "source": []
  },
  {
   "cell_type": "code",
   "execution_count": null,
   "metadata": {},
   "outputs": [],
   "source": []
  }
 ],
 "metadata": {
  "kernelspec": {
   "display_name": "Python 3",
   "language": "python",
   "name": "python3"
  },
  "language_info": {
   "codemirror_mode": {
    "name": "ipython",
    "version": 3
   },
   "file_extension": ".py",
   "mimetype": "text/x-python",
   "name": "python",
   "nbconvert_exporter": "python",
   "pygments_lexer": "ipython3",
   "version": "3.7.4"
  }
 },
 "nbformat": 4,
 "nbformat_minor": 4
}
