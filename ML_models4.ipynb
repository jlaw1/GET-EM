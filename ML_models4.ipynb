{
 "cells": [
  {
   "cell_type": "markdown",
   "metadata": {},
   "source": [
    "# ML Notebook 4 - MLP Classifier"
   ]
  },
  {
   "cell_type": "code",
   "execution_count": 22,
   "metadata": {},
   "outputs": [],
   "source": [
    "import sys\n",
    "sys.path.append('../')\n",
    "import copy\n",
    "#import config\n",
    "#import dota2api\n",
    "import json\n",
    "import requests\n",
    "from pandas.io.json import json_normalize \n",
    "import joblib\n",
    "\n",
    "import numpy as np\n",
    "import pandas as pd\n",
    "import matplotlib.pyplot as plt\n",
    "%matplotlib inline\n",
    "\n",
    "pd.options.display.max_columns = 200\n",
    "pd.options.display.max_rows = 200\n",
    "\n",
    "import warnings; warnings.simplefilter('ignore')"
   ]
  },
  {
   "cell_type": "code",
   "execution_count": null,
   "metadata": {},
   "outputs": [],
   "source": []
  },
  {
   "cell_type": "code",
   "execution_count": 2,
   "metadata": {},
   "outputs": [],
   "source": [
    "# Sklearn stuff\n",
    "from sklearn.model_selection import train_test_split\n",
    "from sklearn.model_selection import cross_val_score, GridSearchCV\n",
    "from sklearn.metrics import confusion_matrix, classification_report, accuracy_score, roc_auc_score\n",
    "\n",
    "SEED = 17"
   ]
  },
  {
   "cell_type": "code",
   "execution_count": 3,
   "metadata": {},
   "outputs": [],
   "source": [
    "# Import Training and Test Data  \n",
    "train_features = pd.read_csv('data2/dpc_train_features.csv', index_col='match_id')\n",
    "train_targets = pd.read_csv('data2/dpc_train_target.csv', index_col='match_id')\n",
    "test_features = pd.read_csv('data2/dpc_test_features.csv', index_col='match_id')\n",
    "test_targets = pd.read_csv('data2/dpc_test_target.csv', index_col='match_id')"
   ]
  },
  {
   "cell_type": "code",
   "execution_count": 4,
   "metadata": {},
   "outputs": [],
   "source": [
    "# Define our targets and features \n",
    "\n",
    "X_remainder = train_features\n",
    "X_test = test_features\n",
    "\n",
    "y_remainder = train_targets.radiant_win.values\n",
    "y_test = test_targets.radiant_win.values"
   ]
  },
  {
   "cell_type": "code",
   "execution_count": 5,
   "metadata": {},
   "outputs": [
    {
     "name": "stdout",
     "output_type": "stream",
     "text": [
      "<class 'pandas.core.frame.DataFrame'>\n",
      "Int64Index: 117 entries, 4870161807 to 5055077558\n",
      "Data columns (total 2 columns):\n",
      " #   Column       Non-Null Count  Dtype\n",
      "---  ------       --------------  -----\n",
      " 0   radiant_win  117 non-null    int64\n",
      " 1   duration     117 non-null    int64\n",
      "dtypes: int64(2)\n",
      "memory usage: 2.7 KB\n"
     ]
    }
   ],
   "source": [
    "test_targets.info()"
   ]
  },
  {
   "cell_type": "markdown",
   "metadata": {},
   "source": [
    "We will try out the MLP classifier once out of the box with the raw data. "
   ]
  },
  {
   "cell_type": "code",
   "execution_count": 6,
   "metadata": {},
   "outputs": [],
   "source": [
    "# Split training data \n",
    "\n",
    "X_train, X_valid, y_train, y_valid = train_test_split(X_remainder, y_remainder, test_size = 0.1, random_state = SEED) ## see top, SEED = 17"
   ]
  },
  {
   "cell_type": "code",
   "execution_count": 7,
   "metadata": {},
   "outputs": [],
   "source": [
    "from sklearn.neural_network import MLPClassifier"
   ]
  },
  {
   "cell_type": "code",
   "execution_count": 8,
   "metadata": {},
   "outputs": [
    {
     "data": {
      "text/plain": [
       "MLPClassifier(activation='relu', alpha=0.0001, batch_size='auto', beta_1=0.9,\n",
       "              beta_2=0.999, early_stopping=False, epsilon=1e-08,\n",
       "              hidden_layer_sizes=(100,), learning_rate='constant',\n",
       "              learning_rate_init=0.001, max_fun=15000, max_iter=200,\n",
       "              momentum=0.9, n_iter_no_change=10, nesterovs_momentum=True,\n",
       "              power_t=0.5, random_state=None, shuffle=True, solver='adam',\n",
       "              tol=0.0001, validation_fraction=0.1, verbose=False,\n",
       "              warm_start=False)"
      ]
     },
     "execution_count": 8,
     "metadata": {},
     "output_type": "execute_result"
    }
   ],
   "source": [
    "mlp1 = MLPClassifier()\n",
    "\n",
    "mlp1.fit(X_train, y_train)"
   ]
  },
  {
   "cell_type": "code",
   "execution_count": 33,
   "metadata": {},
   "outputs": [
    {
     "name": "stdout",
     "output_type": "stream",
     "text": [
      "Accuracy Score on Train Set: 0.9212765957446809\n",
      "Accuracy Score on validation Set: 0.4380952380952381\n",
      "MLP validation roc_auc score: 0.4386792452830188\n"
     ]
    }
   ],
   "source": [
    "y_pred = mlp1.predict(X_valid)\n",
    "y_pred_proba = mlp1.predict_proba(X_valid)[:, 1]\n",
    "\n",
    "print(f\"Accuracy Score on Train Set: {mlp1.score(X_train, y_train)}\")\n",
    "print(f\"Accuracy Score on validation Set: {mlp1.score(X_valid, y_valid)}\")\n",
    "print(f'MLP validation roc_auc score: {roc_auc_score(y_pred, y_valid)}')"
   ]
  },
  {
   "cell_type": "code",
   "execution_count": 13,
   "metadata": {},
   "outputs": [
    {
     "name": "stdout",
     "output_type": "stream",
     "text": [
      "              precision    recall  f1-score   support\n",
      "\n",
      "           0       0.50      0.44      0.47        59\n",
      "           1       0.38      0.43      0.40        46\n",
      "\n",
      "    accuracy                           0.44       105\n",
      "   macro avg       0.44      0.44      0.44       105\n",
      "weighted avg       0.45      0.44      0.44       105\n",
      "\n"
     ]
    }
   ],
   "source": [
    "#sklearn classification report\n",
    "print(classification_report(y_valid, y_pred))"
   ]
  },
  {
   "cell_type": "code",
   "execution_count": 14,
   "metadata": {},
   "outputs": [
    {
     "data": {
      "text/plain": [
       "MLPClassifier(activation='relu', alpha=0.0001, batch_size='auto', beta_1=0.9,\n",
       "              beta_2=0.999, early_stopping=False, epsilon=1e-08,\n",
       "              hidden_layer_sizes=(100,), learning_rate='constant',\n",
       "              learning_rate_init=0.001, max_fun=15000, max_iter=200,\n",
       "              momentum=0.9, n_iter_no_change=10, nesterovs_momentum=True,\n",
       "              power_t=0.5, random_state=None, shuffle=True, solver='adam',\n",
       "              tol=0.0001, validation_fraction=0.1, verbose=False,\n",
       "              warm_start=False)"
      ]
     },
     "execution_count": 14,
     "metadata": {},
     "output_type": "execute_result"
    }
   ],
   "source": [
    "mlp1_final = MLPClassifier()\n",
    "mlp1_final.fit(X_remainder, y_remainder)"
   ]
  },
  {
   "cell_type": "code",
   "execution_count": 32,
   "metadata": {},
   "outputs": [
    {
     "name": "stdout",
     "output_type": "stream",
     "text": [
      "Accuracy Score on Test Set: 0.46153846153846156\n",
      "MLP Test roc_auc score: 0.48622167789344767\n"
     ]
    }
   ],
   "source": [
    "mlp1_final.score(X_test, y_test)\n",
    "y_pred = mlp1_final.predict(X_test)\n",
    "y_pred_proba = mlp1_final.predict_proba(X_test)[:, 1]\n",
    "\n",
    "print(f\"Accuracy Score on Test Set: {mlp1.score(X_test, y_test)}\")\n",
    "print(f'MLP Test roc_auc score: {roc_auc_score(y_pred, y_test)}')"
   ]
  },
  {
   "cell_type": "code",
   "execution_count": 23,
   "metadata": {},
   "outputs": [
    {
     "data": {
      "text/plain": [
       "['mlp1_final.pkl']"
      ]
     },
     "execution_count": 23,
     "metadata": {},
     "output_type": "execute_result"
    }
   ],
   "source": [
    "joblib.dump(mlp1_final, 'mlp1_final.pkl')"
   ]
  },
  {
   "cell_type": "markdown",
   "metadata": {},
   "source": [
    "## MLP Model 2"
   ]
  },
  {
   "cell_type": "markdown",
   "metadata": {},
   "source": [
    "Reload data and encode"
   ]
  },
  {
   "cell_type": "code",
   "execution_count": 29,
   "metadata": {},
   "outputs": [],
   "source": [
    "# Import Training and Test Data  \n",
    "train_features = pd.read_csv('data2/dpc_train_features.csv', index_col='match_id')\n",
    "train_targets = pd.read_csv('data2/dpc_train_target.csv', index_col='match_id')\n",
    "test_features = pd.read_csv('data2/dpc_test_features.csv', index_col='match_id')\n",
    "test_targets = pd.read_csv('data2/dpc_test_target.csv', index_col='match_id')"
   ]
  },
  {
   "cell_type": "code",
   "execution_count": 30,
   "metadata": {},
   "outputs": [],
   "source": [
    "# Combining training and test features for convenience so I can hot encode both at same time\n",
    "all_features = pd.concat([train_features, test_features])\n",
    "\n",
    "# Index to split the training and test data sets\n",
    "idx_split = train_features.shape[0]"
   ]
  },
  {
   "cell_type": "code",
   "execution_count": 31,
   "metadata": {},
   "outputs": [
    {
     "name": "stdout",
     "output_type": "stream",
     "text": [
      "(1162, 2088)\n"
     ]
    }
   ],
   "source": [
    "for i in range(1,23):\n",
    "        all_features = pd.get_dummies(all_features, columns = [f'{i}hero_id'])\n",
    "\n",
    "print(all_features.shape)"
   ]
  },
  {
   "cell_type": "code",
   "execution_count": 32,
   "metadata": {},
   "outputs": [],
   "source": [
    "# Encoded train/test features\n",
    "\n",
    "X_remainder = all_features[:idx_split].values\n",
    "X_test = all_features[idx_split:].values\n",
    "\n",
    "y_remainder = train_targets.radiant_win.values\n",
    "y_test = test_targets.radiant_win.values"
   ]
  },
  {
   "cell_type": "code",
   "execution_count": null,
   "metadata": {},
   "outputs": [],
   "source": []
  },
  {
   "cell_type": "code",
   "execution_count": 17,
   "metadata": {},
   "outputs": [],
   "source": [
    "# Split training data \n",
    "\n",
    "X_train, X_valid, y_train, y_valid = train_test_split(X_remainder, y_remainder, test_size = 0.1, random_state = SEED) ## see top, SEED = 17"
   ]
  },
  {
   "cell_type": "code",
   "execution_count": 24,
   "metadata": {},
   "outputs": [
    {
     "data": {
      "text/plain": [
       "MLPClassifier(activation='relu', alpha=0.0001, batch_size='auto', beta_1=0.9,\n",
       "              beta_2=0.999, early_stopping=False, epsilon=1e-08,\n",
       "              hidden_layer_sizes=(100,), learning_rate='constant',\n",
       "              learning_rate_init=0.001, max_fun=15000, max_iter=200,\n",
       "              momentum=0.9, n_iter_no_change=10, nesterovs_momentum=True,\n",
       "              power_t=0.5, random_state=None, shuffle=True, solver='adam',\n",
       "              tol=0.0001, validation_fraction=0.1, verbose=False,\n",
       "              warm_start=False)"
      ]
     },
     "execution_count": 24,
     "metadata": {},
     "output_type": "execute_result"
    }
   ],
   "source": [
    "mlp2 = MLPClassifier()\n",
    "\n",
    "mlp2.fit(X_train, y_train)"
   ]
  },
  {
   "cell_type": "code",
   "execution_count": 31,
   "metadata": {},
   "outputs": [
    {
     "name": "stdout",
     "output_type": "stream",
     "text": [
      "Accuracy Score on Train Set: 0.9138297872340425\n",
      "Accuracy Score on validation Set: 0.49523809523809526\n",
      "MLP validation roc_auc score: 0.4958272859216256\n"
     ]
    }
   ],
   "source": [
    "y_pred = mlp2.predict(X_valid)\n",
    "y_pred_proba = mlp2.predict_proba(X_valid)[:, 1]\n",
    "\n",
    "print(f\"Accuracy Score on Train Set: {mlp2.score(X_train, y_train)}\")\n",
    "print(f\"Accuracy Score on validation Set: {mlp2.score(X_valid, y_valid)}\")\n",
    "print(f'MLP validation roc_auc score: {roc_auc_score(y_pred, y_valid)}')"
   ]
  },
  {
   "cell_type": "code",
   "execution_count": 26,
   "metadata": {},
   "outputs": [
    {
     "name": "stdout",
     "output_type": "stream",
     "text": [
      "              precision    recall  f1-score   support\n",
      "\n",
      "           0       0.56      0.49      0.52        59\n",
      "           1       0.43      0.50      0.46        46\n",
      "\n",
      "    accuracy                           0.50       105\n",
      "   macro avg       0.50      0.50      0.49       105\n",
      "weighted avg       0.50      0.50      0.50       105\n",
      "\n"
     ]
    }
   ],
   "source": [
    "#sklearn classification report\n",
    "print(classification_report(y_valid, y_pred))"
   ]
  },
  {
   "cell_type": "markdown",
   "metadata": {},
   "source": []
  },
  {
   "cell_type": "code",
   "execution_count": 27,
   "metadata": {},
   "outputs": [
    {
     "data": {
      "text/plain": [
       "MLPClassifier(activation='relu', alpha=0.0001, batch_size='auto', beta_1=0.9,\n",
       "              beta_2=0.999, early_stopping=False, epsilon=1e-08,\n",
       "              hidden_layer_sizes=(100,), learning_rate='constant',\n",
       "              learning_rate_init=0.001, max_fun=15000, max_iter=200,\n",
       "              momentum=0.9, n_iter_no_change=10, nesterovs_momentum=True,\n",
       "              power_t=0.5, random_state=None, shuffle=True, solver='adam',\n",
       "              tol=0.0001, validation_fraction=0.1, verbose=False,\n",
       "              warm_start=False)"
      ]
     },
     "execution_count": 27,
     "metadata": {},
     "output_type": "execute_result"
    }
   ],
   "source": [
    "mlp2_final = MLPClassifier()\n",
    "mlp2_final.fit(X_remainder, y_remainder)"
   ]
  },
  {
   "cell_type": "code",
   "execution_count": 30,
   "metadata": {},
   "outputs": [
    {
     "name": "stdout",
     "output_type": "stream",
     "text": [
      "Accuracy Score on Test Set: 0.5555555555555556\n",
      "MLP Regression Test roc_auc score: 0.4920400943396226\n"
     ]
    }
   ],
   "source": [
    "mlp2_final.score(X_test, y_test)\n",
    "y_pred = mlp2_final.predict(X_test)\n",
    "y_pred_proba = mlp2_final.predict_proba(X_test)[:, 1]\n",
    "\n",
    "print(f\"Accuracy Score on Test Set: {mlp2.score(X_test, y_test)}\")\n",
    "print(f'MLP Regression Test roc_auc score: {roc_auc_score(y_pred, y_test)}')"
   ]
  },
  {
   "cell_type": "code",
   "execution_count": 29,
   "metadata": {},
   "outputs": [
    {
     "data": {
      "text/plain": [
       "['mlp_2.pkl']"
      ]
     },
     "execution_count": 29,
     "metadata": {},
     "output_type": "execute_result"
    }
   ],
   "source": [
    "joblib.dump(mlp2_final, 'mlp_2.pkl')"
   ]
  },
  {
   "cell_type": "code",
   "execution_count": null,
   "metadata": {},
   "outputs": [],
   "source": []
  }
 ],
 "metadata": {
  "kernelspec": {
   "display_name": "Python 3",
   "language": "python",
   "name": "python3"
  },
  "language_info": {
   "codemirror_mode": {
    "name": "ipython",
    "version": 3
   },
   "file_extension": ".py",
   "mimetype": "text/x-python",
   "name": "python",
   "nbconvert_exporter": "python",
   "pygments_lexer": "ipython3",
   "version": "3.7.4"
  }
 },
 "nbformat": 4,
 "nbformat_minor": 4
}
