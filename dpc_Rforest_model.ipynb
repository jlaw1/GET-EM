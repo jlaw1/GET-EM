{
 "cells": [
  {
   "cell_type": "code",
   "execution_count": 4,
   "metadata": {},
   "outputs": [
    {
     "name": "stderr",
     "output_type": "stream",
     "text": [
      "/opt/anaconda3/lib/python3.7/site-packages/statsmodels/tools/_testing.py:19: FutureWarning: pandas.util.testing is deprecated. Use the functions in the public API at pandas.testing instead.\n",
      "  import pandas.util.testing as tm\n"
     ]
    }
   ],
   "source": [
    "import sys\n",
    "sys.path.append('../')\n",
    "import glob2 as glob\n",
    "import json\n",
    "import numpy as np\n",
    "import pandas as pd\n",
    "import seaborn as sns\n",
    "import matplotlib.pyplot as plt\n",
    "import plotly.express as px\n",
    "\n",
    "from sklearn.preprocessing import OneHotEncoder\n",
    "\n",
    "pd.options.display.max_columns = 200\n",
    "pd.options.display.max_rows = 200\n",
    "%matplotlib inline\n",
    "\n",
    "from sklearn import preprocessing\n",
    "import warnings; warnings.simplefilter('ignore')"
   ]
  },
  {
   "cell_type": "code",
   "execution_count": 5,
   "metadata": {},
   "outputs": [],
   "source": [
    "from sklearn.linear_model import LogisticRegression\n",
    "from sklearn.linear_model import LogisticRegressionCV\n",
    "from sklearn.metrics import roc_auc_score\n",
    "from sklearn.model_selection import GridSearchCV, train_test_split\n",
    "from sklearn.model_selection import ShuffleSplit, KFold\n",
    "from sklearn.model_selection import cross_val_score"
   ]
  },
  {
   "cell_type": "code",
   "execution_count": 6,
   "metadata": {},
   "outputs": [],
   "source": [
    "from sklearn.metrics import confusion_matrix, classification_report, accuracy_score\n",
    "from sklearn.model_selection import cross_val_score\n",
    "from sklearn import svm"
   ]
  },
  {
   "cell_type": "code",
   "execution_count": 7,
   "metadata": {},
   "outputs": [],
   "source": [
    "from sklearn.ensemble import RandomForestClassifier\n"
   ]
  },
  {
   "cell_type": "code",
   "execution_count": 8,
   "metadata": {},
   "outputs": [],
   "source": [
    "train_features = pd.read_csv('data2/dpc_train_features.csv', index_col='match_id')\n",
    "test_features = pd.read_csv('data2/dpc_test_features.csv', index_col='match_id')\n",
    "train_targets = pd.read_csv('data2/dpc_train_target.csv', index_col='match_id')\n",
    "test_targets = pd.read_csv('data2/dpc_test_target.csv', index_col='match_id')"
   ]
  },
  {
   "cell_type": "code",
   "execution_count": null,
   "metadata": {},
   "outputs": [],
   "source": []
  },
  {
   "cell_type": "code",
   "execution_count": 14,
   "metadata": {},
   "outputs": [],
   "source": [
    "features_heroes = {\n",
    "                    '1hero_id',\n",
    "                    '2hero_id',\n",
    "                    '3hero_id',\n",
    "                    '4hero_id',\n",
    "                    '5hero_id',\n",
    "                    '6hero_id',\n",
    "                    '7hero_id',\n",
    "                    '8hero_id',\n",
    "                    '9hero_id',\n",
    "                    '10hero_id',\n",
    "                    '11hero_id',\n",
    "                    '12hero_id',\n",
    "                    '13hero_id',\n",
    "                    '14hero_id',\n",
    "                    '15hero_id',\n",
    "                    '16hero_id',\n",
    "                    '17hero_id',\n",
    "                    '18hero_id',\n",
    "                    '19hero_id',\n",
    "                    '20hero_id',\n",
    "                    '21hero_id',\n",
    "                    '22hero_id'\n",
    "}"
   ]
  },
  {
   "cell_type": "code",
   "execution_count": 16,
   "metadata": {},
   "outputs": [
    {
     "ename": "TypeError",
     "evalue": "unhashable type: 'set'",
     "output_type": "error",
     "traceback": [
      "\u001b[0;31m---------------------------------------------------------------------------\u001b[0m",
      "\u001b[0;31mTypeError\u001b[0m                                 Traceback (most recent call last)",
      "\u001b[0;32m<ipython-input-16-e2a28377ce0b>\u001b[0m in \u001b[0;36m<module>\u001b[0;34m\u001b[0m\n\u001b[0;32m----> 1\u001b[0;31m \u001b[0mtrain_features\u001b[0m\u001b[0;34m.\u001b[0m\u001b[0mcolumns\u001b[0m\u001b[0;34m(\u001b[0m\u001b[0;34m{\u001b[0m\u001b[0mfeatures_heroes\u001b[0m\u001b[0;34m}\u001b[0m\u001b[0;34m)\u001b[0m\u001b[0;34m\u001b[0m\u001b[0;34m\u001b[0m\u001b[0m\n\u001b[0m",
      "\u001b[0;31mTypeError\u001b[0m: unhashable type: 'set'"
     ]
    }
   ],
   "source": [
    "train_features.columns(features_heroes)"
   ]
  },
  {
   "cell_type": "code",
   "execution_count": 5,
   "metadata": {},
   "outputs": [
    {
     "data": {
      "text/html": [
       "<div>\n",
       "<style scoped>\n",
       "    .dataframe tbody tr th:only-of-type {\n",
       "        vertical-align: middle;\n",
       "    }\n",
       "\n",
       "    .dataframe tbody tr th {\n",
       "        vertical-align: top;\n",
       "    }\n",
       "\n",
       "    .dataframe thead th {\n",
       "        text-align: right;\n",
       "    }\n",
       "</style>\n",
       "<table border=\"1\" class=\"dataframe\">\n",
       "  <thead>\n",
       "    <tr style=\"text-align: right;\">\n",
       "      <th></th>\n",
       "      <th>radiant_win</th>\n",
       "      <th>duration</th>\n",
       "    </tr>\n",
       "    <tr>\n",
       "      <th>match_id</th>\n",
       "      <th></th>\n",
       "      <th></th>\n",
       "    </tr>\n",
       "  </thead>\n",
       "  <tbody>\n",
       "    <tr>\n",
       "      <td>5115031896</td>\n",
       "      <td>1</td>\n",
       "      <td>2069</td>\n",
       "    </tr>\n",
       "    <tr>\n",
       "      <td>4865407245</td>\n",
       "      <td>0</td>\n",
       "      <td>2524</td>\n",
       "    </tr>\n",
       "    <tr>\n",
       "      <td>4889341660</td>\n",
       "      <td>0</td>\n",
       "      <td>2151</td>\n",
       "    </tr>\n",
       "    <tr>\n",
       "      <td>5050335216</td>\n",
       "      <td>1</td>\n",
       "      <td>2484</td>\n",
       "    </tr>\n",
       "    <tr>\n",
       "      <td>4860032461</td>\n",
       "      <td>1</td>\n",
       "      <td>1958</td>\n",
       "    </tr>\n",
       "  </tbody>\n",
       "</table>\n",
       "</div>"
      ],
      "text/plain": [
       "            radiant_win  duration\n",
       "match_id                         \n",
       "5115031896            1      2069\n",
       "4865407245            0      2524\n",
       "4889341660            0      2151\n",
       "5050335216            1      2484\n",
       "4860032461            1      1958"
      ]
     },
     "execution_count": 5,
     "metadata": {},
     "output_type": "execute_result"
    }
   ],
   "source": [
    "train_targets.head()"
   ]
  },
  {
   "cell_type": "code",
   "execution_count": 40,
   "metadata": {},
   "outputs": [],
   "source": [
    "heroes_df_train = train_features[[f'{i}hero_id' for i in range(1, 23)]]"
   ]
  },
  {
   "cell_type": "code",
   "execution_count": 41,
   "metadata": {},
   "outputs": [],
   "source": [
    "heroes_df_test = test_features[[f'{i}hero_id' for i in range(1, 23)]]"
   ]
  },
  {
   "cell_type": "code",
   "execution_count": 42,
   "metadata": {},
   "outputs": [
    {
     "name": "stdout",
     "output_type": "stream",
     "text": [
      "Wall time: 4.99 ms\n"
     ]
    },
    {
     "data": {
      "text/plain": [
       "OneHotEncoder(categories='auto', drop=None, dtype=<class 'numpy.float64'>,\n",
       "              handle_unknown='ignore', sparse=True)"
      ]
     },
     "execution_count": 42,
     "metadata": {},
     "output_type": "execute_result"
    }
   ],
   "source": [
    "%%time\n",
    "\n",
    "from sklearn.preprocessing import OneHotEncoder\n",
    "enc = OneHotEncoder(handle_unknown='ignore')\n",
    "enc.fit(, X_test)\n",
    "OneHotEncoder(handle_unknown='ignore')"
   ]
  },
  {
   "cell_type": "code",
   "execution_count": 43,
   "metadata": {},
   "outputs": [
    {
     "data": {
      "text/plain": [
       "[array([1], dtype=int64),\n",
       " array([0, 1], dtype=int64),\n",
       " array([  2,   3,   4,   6,   7,   9,  10,  16,  18,  19,  23,  25,  27,\n",
       "         29,  31,  33,  37,  38,  40,  41,  42,  43,  46,  52,  53,  55,\n",
       "         57,  58,  59,  60,  61,  62,  65,  66,  68,  69,  71,  72,  73,\n",
       "         74,  75,  76,  79,  80,  81,  82,  83,  84,  85,  86,  87,  88,\n",
       "         89,  90,  91,  93,  96,  97,  98,  99, 102, 103, 104, 105, 106,\n",
       "        107, 111, 112, 119, 120, 121, 129], dtype=int64),\n",
       " array([1], dtype=int64),\n",
       " array([0, 1], dtype=int64),\n",
       " array([  2,   3,   4,   7,   9,  10,  16,  17,  18,  19,  22,  23,  25,\n",
       "         31,  33,  37,  38,  41,  42,  43,  46,  50,  52,  54,  55,  57,\n",
       "         58,  59,  60,  61,  65,  66,  67,  68,  71,  72,  73,  74,  76,\n",
       "         78,  79,  80,  81,  83,  84,  85,  86,  88,  89,  90,  91,  94,\n",
       "         96,  97,  98,  99, 102, 103, 105, 106, 107, 111, 112, 119, 120,\n",
       "        121, 129], dtype=int64),\n",
       " array([1], dtype=int64),\n",
       " array([0, 1], dtype=int64),\n",
       " array([  2,   3,   4,   5,   6,   7,   9,  10,  14,  15,  16,  17,  18,\n",
       "         19,  23,  25,  29,  33,  34,  37,  38,  41,  42,  43,  46,  52,\n",
       "         53,  54,  55,  57,  58,  59,  60,  61,  62,  65,  66,  68,  69,\n",
       "         71,  72,  73,  74,  75,  76,  77,  79,  80,  81,  82,  83,  84,\n",
       "         85,  86,  88,  89,  90,  91,  94,  95,  96,  97,  98,  99, 100,\n",
       "        102, 103, 104, 106, 107, 111, 112, 119, 120, 121, 129], dtype=int64),\n",
       " array([1], dtype=int64),\n",
       " array([0, 1], dtype=int64),\n",
       " array([  2,   4,   5,   6,   7,   9,  10,  16,  17,  18,  19,  23,  25,\n",
       "         29,  33,  37,  38,  39,  41,  42,  43,  46,  50,  52,  53,  54,\n",
       "         55,  57,  58,  60,  61,  65,  66,  68,  69,  71,  72,  73,  75,\n",
       "         76,  79,  80,  81,  82,  83,  84,  85,  86,  88,  89,  90,  91,\n",
       "         92,  93,  95,  96,  97,  98,  99, 102, 103, 104, 105, 106, 107,\n",
       "        111, 119, 120, 121, 129], dtype=int64),\n",
       " array([1], dtype=int64),\n",
       " array([0, 1], dtype=int64),\n",
       " array([  2,   3,   4,   5,   6,   7,   8,   9,  10,  15,  16,  18,  19,\n",
       "         22,  23,  25,  27,  29,  31,  33,  37,  38,  41,  42,  43,  46,\n",
       "         50,  51,  52,  53,  54,  55,  57,  58,  59,  60,  61,  65,  66,\n",
       "         67,  68,  69,  71,  72,  73,  74,  75,  76,  78,  79,  81,  82,\n",
       "         83,  84,  85,  86,  88,  89,  90,  91,  95,  96,  97,  98,  99,\n",
       "        101, 102, 103, 104, 105, 106, 107, 110, 111, 112, 119, 120, 121,\n",
       "        129], dtype=int64),\n",
       " array([1], dtype=int64),\n",
       " array([0, 1], dtype=int64),\n",
       " array([  2,   3,   4,   5,   7,   8,   9,  10,  15,  16,  17,  18,  19,\n",
       "         23,  25,  27,  29,  30,  33,  37,  38,  40,  41,  42,  43,  45,\n",
       "         46,  47,  50,  52,  53,  55,  57,  58,  60,  61,  65,  66,  68,\n",
       "         69,  71,  72,  73,  76,  79,  80,  81,  82,  83,  84,  85,  86,\n",
       "         88,  89,  90,  91,  93,  96,  97,  98,  99, 102, 103, 104, 105,\n",
       "        106, 107, 111, 112, 113, 119, 120, 121, 129], dtype=int64),\n",
       " array([1], dtype=int64),\n",
       " array([0, 1], dtype=int64),\n",
       " array([  2,   3,   5,   7,   9,  10,  14,  16,  18,  19,  23,  25,  27,\n",
       "         29,  30,  31,  33,  37,  41,  42,  46,  50,  52,  55,  57,  58,\n",
       "         60,  64,  66,  68,  71,  72,  73,  75,  79,  83,  84,  85,  86,\n",
       "         87,  88,  89,  90,  91,  96,  97, 102, 103, 106, 107, 111, 112,\n",
       "        119, 120, 121, 129], dtype=int64),\n",
       " array([1], dtype=int64),\n",
       " array([0, 1], dtype=int64),\n",
       " array([  2,   3,   4,   5,   6,   7,   8,   9,  10,  11,  13,  14,  15,\n",
       "         16,  18,  19,  20,  21,  23,  25,  27,  29,  30,  31,  33,  37,\n",
       "         38,  41,  42,  43,  44,  46,  50,  52,  53,  55,  57,  58,  60,\n",
       "         62,  64,  65,  66,  68,  69,  71,  72,  73,  74,  75,  77,  78,\n",
       "         79,  81,  83,  84,  85,  86,  87,  88,  89,  90,  91,  92,  95,\n",
       "         96,  97,  99, 101, 102, 103, 104, 106, 107, 110, 111, 112, 119,\n",
       "        120, 121, 129], dtype=int64),\n",
       " array([1], dtype=int64),\n",
       " array([0, 1], dtype=int64),\n",
       " array([  2,   3,   4,   5,   6,   7,   8,   9,  10,  13,  15,  16,  17,\n",
       "         18,  19,  20,  21,  22,  23,  25,  26,  27,  29,  30,  31,  33,\n",
       "         36,  37,  38,  41,  42,  43,  44,  46,  50,  51,  52,  53,  54,\n",
       "         55,  57,  58,  60,  64,  65,  66,  67,  68,  69,  71,  72,  73,\n",
       "         74,  75,  76,  78,  79,  81,  83,  84,  85,  86,  87,  88,  89,\n",
       "         90,  91,  93,  95,  96,  97,  98,  99, 100, 101, 102, 103, 104,\n",
       "        105, 106, 107, 110, 111, 112, 119, 120, 121, 129], dtype=int64),\n",
       " array([1], dtype=int64),\n",
       " array([0, 1], dtype=int64),\n",
       " array([  2,   3,   4,   5,   6,   7,   8,   9,  10,  13,  14,  15,  16,\n",
       "         17,  18,  19,  22,  23,  25,  26,  27,  28,  29,  30,  31,  32,\n",
       "         33,  34,  37,  38,  39,  40,  41,  42,  43,  44,  45,  46,  48,\n",
       "         50,  51,  52,  53,  54,  55,  57,  58,  60,  61,  62,  64,  65,\n",
       "         66,  67,  68,  69,  71,  72,  73,  74,  75,  76,  77,  78,  79,\n",
       "         80,  81,  83,  84,  85,  86,  87,  88,  89,  90,  91,  93,  95,\n",
       "         96,  97,  98,  99, 100, 101, 102, 103, 104, 106, 107, 110, 111,\n",
       "        112, 114, 119, 120, 121, 129], dtype=int64),\n",
       " array([1], dtype=int64),\n",
       " array([0, 1], dtype=int64),\n",
       " array([  1,   2,   3,   4,   5,   6,   7,   8,   9,  10,  12,  13,  15,\n",
       "         16,  17,  18,  19,  20,  21,  22,  23,  25,  26,  27,  28,  29,\n",
       "         30,  31,  32,  33,  34,  35,  36,  37,  38,  39,  40,  41,  42,\n",
       "         43,  44,  45,  46,  47,  48,  50,  51,  52,  54,  55,  56,  57,\n",
       "         58,  59,  60,  61,  62,  63,  64,  65,  66,  67,  68,  69,  70,\n",
       "         71,  72,  73,  74,  75,  76,  77,  78,  79,  80,  81,  82,  83,\n",
       "         84,  85,  86,  87,  88,  89,  90,  91,  93,  94,  95,  96,  97,\n",
       "         98,  99, 100, 101, 102, 103, 104, 105, 106, 107, 108, 110, 111,\n",
       "        112, 113, 114, 119, 120, 121, 129], dtype=int64),\n",
       " array([1], dtype=int64),\n",
       " array([0, 1], dtype=int64),\n",
       " array([  1,   2,   3,   4,   5,   6,   7,   8,   9,  10,  11,  12,  13,\n",
       "         15,  16,  17,  18,  19,  22,  23,  25,  26,  27,  28,  29,  30,\n",
       "         31,  33,  35,  36,  37,  38,  39,  40,  41,  42,  43,  44,  45,\n",
       "         46,  47,  50,  51,  52,  53,  54,  55,  57,  58,  59,  60,  61,\n",
       "         62,  64,  65,  66,  67,  68,  69,  70,  71,  72,  73,  74,  76,\n",
       "         77,  78,  79,  80,  81,  82,  83,  84,  85,  86,  87,  88,  89,\n",
       "         90,  91,  92,  93,  94,  95,  96,  97,  98,  99, 101, 102, 103,\n",
       "        104, 105, 106, 107, 109, 110, 111, 112, 113, 114, 120, 121, 129],\n",
       "       dtype=int64),\n",
       " array([1], dtype=int64),\n",
       " array([0, 1], dtype=int64),\n",
       " array([  1,   2,   3,   4,   6,   7,   8,   9,  10,  12,  13,  14,  15,\n",
       "         16,  17,  18,  19,  21,  22,  23,  25,  26,  27,  28,  29,  31,\n",
       "         33,  34,  35,  36,  37,  38,  39,  40,  41,  42,  43,  44,  45,\n",
       "         46,  47,  48,  49,  50,  51,  52,  53,  54,  55,  57,  58,  59,\n",
       "         60,  61,  62,  64,  65,  66,  67,  68,  69,  70,  71,  72,  73,\n",
       "         74,  76,  77,  79,  80,  81,  82,  83,  84,  85,  86,  88,  89,\n",
       "         90,  91,  92,  93,  94,  95,  96,  97,  98,  99, 100, 101, 102,\n",
       "        103, 104, 105, 106, 107, 109, 111, 112, 113, 114, 119, 120, 121,\n",
       "        129], dtype=int64),\n",
       " array([1], dtype=int64),\n",
       " array([0, 1], dtype=int64),\n",
       " array([  1,   2,   3,   4,   5,   6,   7,   8,   9,  10,  11,  12,  13,\n",
       "         14,  15,  16,  17,  18,  19,  21,  22,  23,  25,  26,  27,  28,\n",
       "         29,  30,  31,  32,  33,  34,  35,  36,  37,  38,  39,  40,  41,\n",
       "         42,  43,  44,  45,  46,  47,  48,  49,  50,  51,  52,  53,  54,\n",
       "         55,  57,  58,  59,  60,  61,  62,  63,  64,  65,  66,  67,  68,\n",
       "         69,  71,  72,  73,  74,  75,  76,  77,  78,  79,  80,  81,  82,\n",
       "         83,  84,  85,  86,  87,  88,  89,  90,  91,  92,  93,  94,  95,\n",
       "         96,  97,  98,  99, 100, 101, 102, 103, 104, 105, 106, 109, 110,\n",
       "        111, 112, 113, 114, 119, 120, 121, 129], dtype=int64),\n",
       " array([1], dtype=int64),\n",
       " array([0, 1], dtype=int64),\n",
       " array([  2,   3,   4,   5,   7,   8,   9,  10,  11,  12,  13,  14,  16,\n",
       "         17,  18,  19,  20,  21,  23,  25,  26,  27,  28,  29,  30,  31,\n",
       "         32,  33,  37,  38,  39,  40,  41,  42,  43,  44,  46,  50,  51,\n",
       "         52,  53,  54,  55,  57,  58,  60,  61,  62,  64,  65,  66,  67,\n",
       "         68,  69,  71,  72,  73,  74,  75,  76,  77,  78,  79,  80,  81,\n",
       "         83,  84,  85,  86,  87,  88,  89,  90,  91,  92,  93,  95,  96,\n",
       "         97,  98,  99, 100, 101, 102, 103, 104, 105, 106, 107, 110, 111,\n",
       "        112, 114, 119, 120, 121, 129], dtype=int64),\n",
       " array([1], dtype=int64),\n",
       " array([0, 1], dtype=int64),\n",
       " array([  2,   3,   4,   5,   6,   7,   8,   9,  10,  11,  12,  13,  16,\n",
       "         17,  18,  19,  20,  21,  22,  23,  25,  26,  27,  28,  29,  30,\n",
       "         31,  33,  37,  38,  39,  40,  41,  42,  43,  45,  46,  48,  50,\n",
       "         51,  52,  53,  54,  55,  56,  57,  58,  60,  62,  64,  65,  66,\n",
       "         67,  68,  69,  70,  71,  72,  74,  75,  76,  77,  78,  79,  81,\n",
       "         83,  84,  85,  86,  87,  88,  89,  90,  91,  92,  93,  95,  96,\n",
       "         97,  98,  99, 100, 101, 102, 103, 104, 105, 106, 107, 108, 110,\n",
       "        111, 112, 114, 119, 120, 121, 129], dtype=int64),\n",
       " array([1], dtype=int64),\n",
       " array([0, 1], dtype=int64),\n",
       " array([  1,   2,   3,   4,   5,   6,   7,   8,   9,  10,  11,  12,  13,\n",
       "         14,  15,  16,  17,  18,  19,  20,  21,  22,  23,  25,  26,  27,\n",
       "         28,  29,  30,  31,  32,  33,  36,  37,  38,  39,  40,  41,  42,\n",
       "         43,  44,  45,  46,  47,  48,  49,  50,  51,  52,  53,  54,  55,\n",
       "         56,  57,  58,  59,  60,  61,  62,  63,  64,  65,  66,  67,  68,\n",
       "         69,  70,  71,  72,  73,  74,  75,  76,  77,  78,  79,  80,  81,\n",
       "         83,  84,  85,  86,  87,  88,  89,  90,  92,  93,  94,  95,  96,\n",
       "         97,  98,  99, 100, 101, 102, 103, 104, 105, 106, 107, 108, 110,\n",
       "        111, 112, 113, 114, 119, 120, 121, 129], dtype=int64),\n",
       " array([1], dtype=int64),\n",
       " array([0, 1], dtype=int64),\n",
       " array([  1,   2,   3,   4,   5,   6,   7,   8,   9,  10,  11,  12,  13,\n",
       "         14,  15,  16,  17,  18,  19,  21,  22,  23,  25,  27,  28,  29,\n",
       "         30,  31,  33,  34,  35,  36,  38,  39,  40,  41,  42,  43,  44,\n",
       "         45,  46,  47,  49,  50,  51,  52,  53,  54,  55,  57,  58,  59,\n",
       "         60,  61,  62,  63,  64,  65,  66,  67,  68,  69,  70,  71,  72,\n",
       "         73,  74,  75,  76,  77,  78,  79,  80,  81,  82,  84,  85,  86,\n",
       "         87,  88,  89,  92,  93,  94,  95,  96,  97,  98,  99, 100, 101,\n",
       "        102, 103, 104, 105, 106, 107, 108, 109, 110, 111, 112, 113, 114,\n",
       "        119, 120, 121, 129], dtype=int64),\n",
       " array([1], dtype=int64),\n",
       " array([0, 1], dtype=int64),\n",
       " array([  1,   2,   3,   4,   5,   6,   7,   8,   9,  10,  11,  12,  13,\n",
       "         14,  15,  16,  17,  18,  19,  21,  22,  23,  25,  27,  28,  29,\n",
       "         30,  31,  33,  34,  35,  36,  37,  38,  39,  40,  41,  42,  43,\n",
       "         44,  45,  46,  47,  49,  50,  51,  52,  53,  54,  55,  57,  58,\n",
       "         59,  60,  61,  63,  64,  65,  66,  67,  68,  69,  70,  72,  73,\n",
       "         74,  75,  76,  77,  78,  79,  80,  81,  82,  83,  84,  85,  86,\n",
       "         87,  88,  89,  90,  92,  93,  94,  95,  96,  97,  98,  99, 100,\n",
       "        101, 102, 104, 105, 106, 107, 108, 109, 110, 111, 112, 113, 114,\n",
       "        119, 120, 121, 129], dtype=int64),\n",
       " array([1], dtype=int64),\n",
       " array([0, 1], dtype=int64),\n",
       " array([  1,   2,   3,   4,   6,   7,   8,  10,  11,  12,  13,  15,  16,\n",
       "         17,  18,  19,  21,  22,  23,  25,  27,  28,  29,  33,  34,  35,\n",
       "         36,  38,  39,  40,  41,  42,  43,  44,  45,  46,  47,  49,  50,\n",
       "         51,  52,  54,  55,  57,  58,  59,  60,  61,  63,  65,  67,  68,\n",
       "         69,  70,  72,  73,  74,  75,  76,  77,  78,  79,  80,  81,  82,\n",
       "         85,  86,  88,  89,  93,  94,  95,  96,  98,  99, 101, 102, 104,\n",
       "        106, 107, 109, 111, 112, 113, 114, 120, 129], dtype=int64),\n",
       " array([1], dtype=int64),\n",
       " array([0, 1], dtype=int64),\n",
       " array([  1,   2,   3,   4,   5,   6,   7,   8,   9,  10,  11,  12,  13,\n",
       "         14,  15,  16,  17,  18,  19,  20,  21,  22,  23,  25,  26,  27,\n",
       "         28,  29,  30,  31,  32,  33,  35,  36,  37,  38,  39,  40,  41,\n",
       "         42,  43,  44,  45,  46,  47,  49,  50,  51,  52,  53,  54,  55,\n",
       "         57,  58,  59,  60,  61,  62,  63,  64,  65,  66,  67,  68,  69,\n",
       "         70,  71,  72,  73,  74,  75,  76,  77,  78,  79,  80,  81,  82,\n",
       "         83,  84,  85,  86,  87,  88,  89,  90,  91,  92,  93,  94,  95,\n",
       "         96,  97,  98,  99, 100, 101, 102, 103, 104, 106, 107, 108, 109,\n",
       "        110, 111, 112, 113, 114, 119, 120, 121, 129], dtype=int64),\n",
       " array([1], dtype=int64),\n",
       " array([0, 1], dtype=int64),\n",
       " array([  1,   2,   4,   5,   6,   7,   8,  10,  11,  12,  13,  14,  15,\n",
       "         16,  17,  18,  19,  21,  22,  23,  25,  26,  27,  28,  29,  32,\n",
       "         33,  34,  35,  36,  37,  38,  39,  40,  41,  42,  43,  44,  45,\n",
       "         46,  47,  48,  49,  50,  51,  52,  53,  54,  55,  56,  57,  58,\n",
       "         59,  60,  61,  62,  63,  65,  67,  68,  70,  71,  72,  73,  74,\n",
       "         75,  76,  77,  78,  79,  80,  81,  82,  84,  85,  86,  88,  89,\n",
       "         92,  93,  94,  95,  96,  97,  98,  99, 101, 102, 104, 106, 107,\n",
       "        108, 109, 110, 112, 113, 114, 120, 121, 129], dtype=int64)]"
      ]
     },
     "execution_count": 43,
     "metadata": {},
     "output_type": "execute_result"
    }
   ],
   "source": [
    "enc.categories_"
   ]
  },
  {
   "cell_type": "code",
   "execution_count": 9,
   "metadata": {},
   "outputs": [
    {
     "data": {
      "text/plain": [
       "<1045x2081 sparse matrix of type '<class 'numpy.float64'>'\n",
       "\twith 68970 stored elements in Compressed Sparse Row format>"
      ]
     },
     "execution_count": 9,
     "metadata": {},
     "output_type": "execute_result"
    }
   ],
   "source": [
    "enc.transform(X_train)"
   ]
  },
  {
   "cell_type": "code",
   "execution_count": 10,
   "metadata": {},
   "outputs": [
    {
     "data": {
      "text/plain": [
       "<117x2081 sparse matrix of type '<class 'numpy.float64'>'\n",
       "\twith 7691 stored elements in Compressed Sparse Row format>"
      ]
     },
     "execution_count": 10,
     "metadata": {},
     "output_type": "execute_result"
    }
   ],
   "source": [
    "enc.transform(X_test)"
   ]
  },
  {
   "cell_type": "markdown",
   "metadata": {},
   "source": [
    "## Setup Model \n",
    "\n",
    "For the first pass, let's try the Random Forest model with the entire training set (i.e., will not split training data)"
   ]
  },
  {
   "cell_type": "code",
   "execution_count": 2,
   "metadata": {},
   "outputs": [
    {
     "ename": "NameError",
     "evalue": "name 'train_targets' is not defined",
     "output_type": "error",
     "traceback": [
      "\u001b[0;31m---------------------------------------------------------------------------\u001b[0m",
      "\u001b[0;31mNameError\u001b[0m                                 Traceback (most recent call last)",
      "\u001b[0;32m<ipython-input-2-6c1454ed30ca>\u001b[0m in \u001b[0;36m<module>\u001b[0;34m\u001b[0m\n\u001b[1;32m      1\u001b[0m \u001b[0;31m# Set up targets and features\u001b[0m\u001b[0;34m\u001b[0m\u001b[0;34m\u001b[0m\u001b[0;34m\u001b[0m\u001b[0m\n\u001b[0;32m----> 2\u001b[0;31m \u001b[0my_train\u001b[0m \u001b[0;34m=\u001b[0m \u001b[0mtrain_targets\u001b[0m\u001b[0;34m.\u001b[0m\u001b[0mradiant_win\u001b[0m\u001b[0;34m.\u001b[0m\u001b[0mvalues\u001b[0m \u001b[0;31m# extract target variable\u001b[0m\u001b[0;34m\u001b[0m\u001b[0;34m\u001b[0m\u001b[0m\n\u001b[0m\u001b[1;32m      3\u001b[0m \u001b[0mX_train\u001b[0m \u001b[0;34m=\u001b[0m \u001b[0mtrain_features\u001b[0m\u001b[0;34m.\u001b[0m\u001b[0mvalues\u001b[0m\u001b[0;34m\u001b[0m\u001b[0;34m\u001b[0m\u001b[0m\n\u001b[1;32m      4\u001b[0m \u001b[0;34m\u001b[0m\u001b[0m\n\u001b[1;32m      5\u001b[0m \u001b[0my_test\u001b[0m \u001b[0;34m=\u001b[0m \u001b[0mtest_targets\u001b[0m\u001b[0;34m.\u001b[0m\u001b[0mradiant_win\u001b[0m\u001b[0;34m.\u001b[0m\u001b[0mvalues\u001b[0m \u001b[0;31m# extract target variable\u001b[0m\u001b[0;34m\u001b[0m\u001b[0;34m\u001b[0m\u001b[0m\n",
      "\u001b[0;31mNameError\u001b[0m: name 'train_targets' is not defined"
     ]
    }
   ],
   "source": [
    "# Set up targets and features\n",
    "y_train = train_targets.radiant_win.values # extract target variable \n",
    "X_train = train_features.values\n",
    "\n",
    "y_test = test_targets.radiant_win.values # extract target variable \n",
    "X_test = test_features.values"
   ]
  },
  {
   "cell_type": "code",
   "execution_count": 30,
   "metadata": {},
   "outputs": [],
   "source": [
    "features_heroes = list([\n",
    "                    '1hero_id',\n",
    "                    '2hero_id',\n",
    "                    '3hero_id',\n",
    "                    '4hero_id',\n",
    "                    '5hero_id',\n",
    "                    '6hero_id',\n",
    "                    '7hero_id',\n",
    "                    '8hero_id',\n",
    "                    '9hero_id',\n",
    "                    '10hero_id',\n",
    "                    '11hero_id',\n",
    "                    '12hero_id',\n",
    "                    '13hero_id',\n",
    "                    '14hero_id',\n",
    "                    '15hero_id',\n",
    "                    '16hero_id',\n",
    "                    '17hero_id',\n",
    "                    '18hero_id',\n",
    "                    '19hero_id',\n",
    "                    '20hero_id',\n",
    "                    '21hero_id',\n",
    "                    '22hero_id'\n",
    "])"
   ]
  },
  {
   "cell_type": "code",
   "execution_count": 1,
   "metadata": {},
   "outputs": [
    {
     "ename": "NameError",
     "evalue": "name 'train_features' is not defined",
     "output_type": "error",
     "traceback": [
      "\u001b[0;31m---------------------------------------------------------------------------\u001b[0m",
      "\u001b[0;31mNameError\u001b[0m                                 Traceback (most recent call last)",
      "\u001b[0;32m<ipython-input-1-57f7b3c50c07>\u001b[0m in \u001b[0;36m<module>\u001b[0;34m\u001b[0m\n\u001b[0;32m----> 1\u001b[0;31m \u001b[0mtrain_features\u001b[0m\u001b[0;34m.\u001b[0m\u001b[0mcolumns\u001b[0m\u001b[0;34m(\u001b[0m\u001b[0mlist\u001b[0m\u001b[0;34m(\u001b[0m\u001b[0mfeatures_heroes\u001b[0m\u001b[0;34m)\u001b[0m\u001b[0;34m)\u001b[0m\u001b[0;34m\u001b[0m\u001b[0;34m\u001b[0m\u001b[0m\n\u001b[0m",
      "\u001b[0;31mNameError\u001b[0m: name 'train_features' is not defined"
     ]
    }
   ],
   "source": [
    "train_features.columns(list(features_heroes))"
   ]
  },
  {
   "cell_type": "code",
   "execution_count": 38,
   "metadata": {},
   "outputs": [
    {
     "ename": "IndexError",
     "evalue": "only integers, slices (`:`), ellipsis (`...`), numpy.newaxis (`None`) and integer or boolean arrays are valid indices",
     "output_type": "error",
     "traceback": [
      "\u001b[1;31m---------------------------------------------------------------------------\u001b[0m",
      "\u001b[1;31mIndexError\u001b[0m                                Traceback (most recent call last)",
      "\u001b[1;32m<ipython-input-38-4408971899b0>\u001b[0m in \u001b[0;36m<module>\u001b[1;34m\u001b[0m\n\u001b[1;32m----> 1\u001b[1;33m \u001b[0mheroes_df_train\u001b[0m \u001b[1;33m=\u001b[0m \u001b[0mX_train\u001b[0m\u001b[1;33m[\u001b[0m\u001b[1;33m[\u001b[0m\u001b[1;34mf'{i}hero_id'\u001b[0m \u001b[1;32mfor\u001b[0m \u001b[0mi\u001b[0m \u001b[1;32min\u001b[0m \u001b[0mrange\u001b[0m\u001b[1;33m(\u001b[0m\u001b[1;36m1\u001b[0m\u001b[1;33m,\u001b[0m \u001b[1;36m23\u001b[0m\u001b[1;33m)\u001b[0m\u001b[1;33m]\u001b[0m\u001b[1;33m]\u001b[0m\u001b[1;33m\u001b[0m\u001b[1;33m\u001b[0m\u001b[0m\n\u001b[0m",
      "\u001b[1;31mIndexError\u001b[0m: only integers, slices (`:`), ellipsis (`...`), numpy.newaxis (`None`) and integer or boolean arrays are valid indices"
     ]
    }
   ],
   "source": [
    "heroes_df_train = X_train[[f'{i}hero_id' for i in range(1, 23)]]"
   ]
  },
  {
   "cell_type": "code",
   "execution_count": 7,
   "metadata": {},
   "outputs": [
    {
     "name": "stdout",
     "output_type": "stream",
     "text": [
      "Wall time: 3.97 ms\n"
     ]
    },
    {
     "data": {
      "text/plain": [
       "OneHotEncoder(categories='auto', drop=None, dtype=<class 'numpy.float64'>,\n",
       "              handle_unknown='ignore', sparse=True)"
      ]
     },
     "execution_count": 7,
     "metadata": {},
     "output_type": "execute_result"
    }
   ],
   "source": [
    "%%time\n",
    "\n",
    "from sklearn.preprocessing import OneHotEncoder\n",
    "enc = OneHotEncoder(handle_unknown='ignore')\n",
    "enc.fit(X_train, X_test)\n",
    "OneHotEncoder(handle_unknown='ignore')"
   ]
  },
  {
   "cell_type": "code",
   "execution_count": 8,
   "metadata": {},
   "outputs": [
    {
     "data": {
      "text/plain": [
       "[array([1], dtype=int64),\n",
       " array([0, 1], dtype=int64),\n",
       " array([  2,   3,   4,   6,   7,   9,  10,  16,  18,  19,  23,  25,  27,\n",
       "         29,  31,  33,  37,  38,  40,  41,  42,  43,  46,  52,  53,  55,\n",
       "         57,  58,  59,  60,  61,  62,  65,  66,  68,  69,  71,  72,  73,\n",
       "         74,  75,  76,  79,  80,  81,  82,  83,  84,  85,  86,  87,  88,\n",
       "         89,  90,  91,  93,  96,  97,  98,  99, 102, 103, 104, 105, 106,\n",
       "        107, 111, 112, 119, 120, 121, 129], dtype=int64),\n",
       " array([1], dtype=int64),\n",
       " array([0, 1], dtype=int64),\n",
       " array([  2,   3,   4,   7,   9,  10,  16,  17,  18,  19,  22,  23,  25,\n",
       "         31,  33,  37,  38,  41,  42,  43,  46,  50,  52,  54,  55,  57,\n",
       "         58,  59,  60,  61,  65,  66,  67,  68,  71,  72,  73,  74,  76,\n",
       "         78,  79,  80,  81,  83,  84,  85,  86,  88,  89,  90,  91,  94,\n",
       "         96,  97,  98,  99, 102, 103, 105, 106, 107, 111, 112, 119, 120,\n",
       "        121, 129], dtype=int64),\n",
       " array([1], dtype=int64),\n",
       " array([0, 1], dtype=int64),\n",
       " array([  2,   3,   4,   5,   6,   7,   9,  10,  14,  15,  16,  17,  18,\n",
       "         19,  23,  25,  29,  33,  34,  37,  38,  41,  42,  43,  46,  52,\n",
       "         53,  54,  55,  57,  58,  59,  60,  61,  62,  65,  66,  68,  69,\n",
       "         71,  72,  73,  74,  75,  76,  77,  79,  80,  81,  82,  83,  84,\n",
       "         85,  86,  88,  89,  90,  91,  94,  95,  96,  97,  98,  99, 100,\n",
       "        102, 103, 104, 106, 107, 111, 112, 119, 120, 121, 129], dtype=int64),\n",
       " array([1], dtype=int64),\n",
       " array([0, 1], dtype=int64),\n",
       " array([  2,   4,   5,   6,   7,   9,  10,  16,  17,  18,  19,  23,  25,\n",
       "         29,  33,  37,  38,  39,  41,  42,  43,  46,  50,  52,  53,  54,\n",
       "         55,  57,  58,  60,  61,  65,  66,  68,  69,  71,  72,  73,  75,\n",
       "         76,  79,  80,  81,  82,  83,  84,  85,  86,  88,  89,  90,  91,\n",
       "         92,  93,  95,  96,  97,  98,  99, 102, 103, 104, 105, 106, 107,\n",
       "        111, 119, 120, 121, 129], dtype=int64),\n",
       " array([1], dtype=int64),\n",
       " array([0, 1], dtype=int64),\n",
       " array([  2,   3,   4,   5,   6,   7,   8,   9,  10,  15,  16,  18,  19,\n",
       "         22,  23,  25,  27,  29,  31,  33,  37,  38,  41,  42,  43,  46,\n",
       "         50,  51,  52,  53,  54,  55,  57,  58,  59,  60,  61,  65,  66,\n",
       "         67,  68,  69,  71,  72,  73,  74,  75,  76,  78,  79,  81,  82,\n",
       "         83,  84,  85,  86,  88,  89,  90,  91,  95,  96,  97,  98,  99,\n",
       "        101, 102, 103, 104, 105, 106, 107, 110, 111, 112, 119, 120, 121,\n",
       "        129], dtype=int64),\n",
       " array([1], dtype=int64),\n",
       " array([0, 1], dtype=int64),\n",
       " array([  2,   3,   4,   5,   7,   8,   9,  10,  15,  16,  17,  18,  19,\n",
       "         23,  25,  27,  29,  30,  33,  37,  38,  40,  41,  42,  43,  45,\n",
       "         46,  47,  50,  52,  53,  55,  57,  58,  60,  61,  65,  66,  68,\n",
       "         69,  71,  72,  73,  76,  79,  80,  81,  82,  83,  84,  85,  86,\n",
       "         88,  89,  90,  91,  93,  96,  97,  98,  99, 102, 103, 104, 105,\n",
       "        106, 107, 111, 112, 113, 119, 120, 121, 129], dtype=int64),\n",
       " array([1], dtype=int64),\n",
       " array([0, 1], dtype=int64),\n",
       " array([  2,   3,   5,   7,   9,  10,  14,  16,  18,  19,  23,  25,  27,\n",
       "         29,  30,  31,  33,  37,  41,  42,  46,  50,  52,  55,  57,  58,\n",
       "         60,  64,  66,  68,  71,  72,  73,  75,  79,  83,  84,  85,  86,\n",
       "         87,  88,  89,  90,  91,  96,  97, 102, 103, 106, 107, 111, 112,\n",
       "        119, 120, 121, 129], dtype=int64),\n",
       " array([1], dtype=int64),\n",
       " array([0, 1], dtype=int64),\n",
       " array([  2,   3,   4,   5,   6,   7,   8,   9,  10,  11,  13,  14,  15,\n",
       "         16,  18,  19,  20,  21,  23,  25,  27,  29,  30,  31,  33,  37,\n",
       "         38,  41,  42,  43,  44,  46,  50,  52,  53,  55,  57,  58,  60,\n",
       "         62,  64,  65,  66,  68,  69,  71,  72,  73,  74,  75,  77,  78,\n",
       "         79,  81,  83,  84,  85,  86,  87,  88,  89,  90,  91,  92,  95,\n",
       "         96,  97,  99, 101, 102, 103, 104, 106, 107, 110, 111, 112, 119,\n",
       "        120, 121, 129], dtype=int64),\n",
       " array([1], dtype=int64),\n",
       " array([0, 1], dtype=int64),\n",
       " array([  2,   3,   4,   5,   6,   7,   8,   9,  10,  13,  15,  16,  17,\n",
       "         18,  19,  20,  21,  22,  23,  25,  26,  27,  29,  30,  31,  33,\n",
       "         36,  37,  38,  41,  42,  43,  44,  46,  50,  51,  52,  53,  54,\n",
       "         55,  57,  58,  60,  64,  65,  66,  67,  68,  69,  71,  72,  73,\n",
       "         74,  75,  76,  78,  79,  81,  83,  84,  85,  86,  87,  88,  89,\n",
       "         90,  91,  93,  95,  96,  97,  98,  99, 100, 101, 102, 103, 104,\n",
       "        105, 106, 107, 110, 111, 112, 119, 120, 121, 129], dtype=int64),\n",
       " array([1], dtype=int64),\n",
       " array([0, 1], dtype=int64),\n",
       " array([  2,   3,   4,   5,   6,   7,   8,   9,  10,  13,  14,  15,  16,\n",
       "         17,  18,  19,  22,  23,  25,  26,  27,  28,  29,  30,  31,  32,\n",
       "         33,  34,  37,  38,  39,  40,  41,  42,  43,  44,  45,  46,  48,\n",
       "         50,  51,  52,  53,  54,  55,  57,  58,  60,  61,  62,  64,  65,\n",
       "         66,  67,  68,  69,  71,  72,  73,  74,  75,  76,  77,  78,  79,\n",
       "         80,  81,  83,  84,  85,  86,  87,  88,  89,  90,  91,  93,  95,\n",
       "         96,  97,  98,  99, 100, 101, 102, 103, 104, 106, 107, 110, 111,\n",
       "        112, 114, 119, 120, 121, 129], dtype=int64),\n",
       " array([1], dtype=int64),\n",
       " array([0, 1], dtype=int64),\n",
       " array([  1,   2,   3,   4,   5,   6,   7,   8,   9,  10,  12,  13,  15,\n",
       "         16,  17,  18,  19,  20,  21,  22,  23,  25,  26,  27,  28,  29,\n",
       "         30,  31,  32,  33,  34,  35,  36,  37,  38,  39,  40,  41,  42,\n",
       "         43,  44,  45,  46,  47,  48,  50,  51,  52,  54,  55,  56,  57,\n",
       "         58,  59,  60,  61,  62,  63,  64,  65,  66,  67,  68,  69,  70,\n",
       "         71,  72,  73,  74,  75,  76,  77,  78,  79,  80,  81,  82,  83,\n",
       "         84,  85,  86,  87,  88,  89,  90,  91,  93,  94,  95,  96,  97,\n",
       "         98,  99, 100, 101, 102, 103, 104, 105, 106, 107, 108, 110, 111,\n",
       "        112, 113, 114, 119, 120, 121, 129], dtype=int64),\n",
       " array([1], dtype=int64),\n",
       " array([0, 1], dtype=int64),\n",
       " array([  1,   2,   3,   4,   5,   6,   7,   8,   9,  10,  11,  12,  13,\n",
       "         15,  16,  17,  18,  19,  22,  23,  25,  26,  27,  28,  29,  30,\n",
       "         31,  33,  35,  36,  37,  38,  39,  40,  41,  42,  43,  44,  45,\n",
       "         46,  47,  50,  51,  52,  53,  54,  55,  57,  58,  59,  60,  61,\n",
       "         62,  64,  65,  66,  67,  68,  69,  70,  71,  72,  73,  74,  76,\n",
       "         77,  78,  79,  80,  81,  82,  83,  84,  85,  86,  87,  88,  89,\n",
       "         90,  91,  92,  93,  94,  95,  96,  97,  98,  99, 101, 102, 103,\n",
       "        104, 105, 106, 107, 109, 110, 111, 112, 113, 114, 120, 121, 129],\n",
       "       dtype=int64),\n",
       " array([1], dtype=int64),\n",
       " array([0, 1], dtype=int64),\n",
       " array([  1,   2,   3,   4,   6,   7,   8,   9,  10,  12,  13,  14,  15,\n",
       "         16,  17,  18,  19,  21,  22,  23,  25,  26,  27,  28,  29,  31,\n",
       "         33,  34,  35,  36,  37,  38,  39,  40,  41,  42,  43,  44,  45,\n",
       "         46,  47,  48,  49,  50,  51,  52,  53,  54,  55,  57,  58,  59,\n",
       "         60,  61,  62,  64,  65,  66,  67,  68,  69,  70,  71,  72,  73,\n",
       "         74,  76,  77,  79,  80,  81,  82,  83,  84,  85,  86,  88,  89,\n",
       "         90,  91,  92,  93,  94,  95,  96,  97,  98,  99, 100, 101, 102,\n",
       "        103, 104, 105, 106, 107, 109, 111, 112, 113, 114, 119, 120, 121,\n",
       "        129], dtype=int64),\n",
       " array([1], dtype=int64),\n",
       " array([0, 1], dtype=int64),\n",
       " array([  1,   2,   3,   4,   5,   6,   7,   8,   9,  10,  11,  12,  13,\n",
       "         14,  15,  16,  17,  18,  19,  21,  22,  23,  25,  26,  27,  28,\n",
       "         29,  30,  31,  32,  33,  34,  35,  36,  37,  38,  39,  40,  41,\n",
       "         42,  43,  44,  45,  46,  47,  48,  49,  50,  51,  52,  53,  54,\n",
       "         55,  57,  58,  59,  60,  61,  62,  63,  64,  65,  66,  67,  68,\n",
       "         69,  71,  72,  73,  74,  75,  76,  77,  78,  79,  80,  81,  82,\n",
       "         83,  84,  85,  86,  87,  88,  89,  90,  91,  92,  93,  94,  95,\n",
       "         96,  97,  98,  99, 100, 101, 102, 103, 104, 105, 106, 109, 110,\n",
       "        111, 112, 113, 114, 119, 120, 121, 129], dtype=int64),\n",
       " array([1], dtype=int64),\n",
       " array([0, 1], dtype=int64),\n",
       " array([  2,   3,   4,   5,   7,   8,   9,  10,  11,  12,  13,  14,  16,\n",
       "         17,  18,  19,  20,  21,  23,  25,  26,  27,  28,  29,  30,  31,\n",
       "         32,  33,  37,  38,  39,  40,  41,  42,  43,  44,  46,  50,  51,\n",
       "         52,  53,  54,  55,  57,  58,  60,  61,  62,  64,  65,  66,  67,\n",
       "         68,  69,  71,  72,  73,  74,  75,  76,  77,  78,  79,  80,  81,\n",
       "         83,  84,  85,  86,  87,  88,  89,  90,  91,  92,  93,  95,  96,\n",
       "         97,  98,  99, 100, 101, 102, 103, 104, 105, 106, 107, 110, 111,\n",
       "        112, 114, 119, 120, 121, 129], dtype=int64),\n",
       " array([1], dtype=int64),\n",
       " array([0, 1], dtype=int64),\n",
       " array([  2,   3,   4,   5,   6,   7,   8,   9,  10,  11,  12,  13,  16,\n",
       "         17,  18,  19,  20,  21,  22,  23,  25,  26,  27,  28,  29,  30,\n",
       "         31,  33,  37,  38,  39,  40,  41,  42,  43,  45,  46,  48,  50,\n",
       "         51,  52,  53,  54,  55,  56,  57,  58,  60,  62,  64,  65,  66,\n",
       "         67,  68,  69,  70,  71,  72,  74,  75,  76,  77,  78,  79,  81,\n",
       "         83,  84,  85,  86,  87,  88,  89,  90,  91,  92,  93,  95,  96,\n",
       "         97,  98,  99, 100, 101, 102, 103, 104, 105, 106, 107, 108, 110,\n",
       "        111, 112, 114, 119, 120, 121, 129], dtype=int64),\n",
       " array([1], dtype=int64),\n",
       " array([0, 1], dtype=int64),\n",
       " array([  1,   2,   3,   4,   5,   6,   7,   8,   9,  10,  11,  12,  13,\n",
       "         14,  15,  16,  17,  18,  19,  20,  21,  22,  23,  25,  26,  27,\n",
       "         28,  29,  30,  31,  32,  33,  36,  37,  38,  39,  40,  41,  42,\n",
       "         43,  44,  45,  46,  47,  48,  49,  50,  51,  52,  53,  54,  55,\n",
       "         56,  57,  58,  59,  60,  61,  62,  63,  64,  65,  66,  67,  68,\n",
       "         69,  70,  71,  72,  73,  74,  75,  76,  77,  78,  79,  80,  81,\n",
       "         83,  84,  85,  86,  87,  88,  89,  90,  92,  93,  94,  95,  96,\n",
       "         97,  98,  99, 100, 101, 102, 103, 104, 105, 106, 107, 108, 110,\n",
       "        111, 112, 113, 114, 119, 120, 121, 129], dtype=int64),\n",
       " array([1], dtype=int64),\n",
       " array([0, 1], dtype=int64),\n",
       " array([  1,   2,   3,   4,   5,   6,   7,   8,   9,  10,  11,  12,  13,\n",
       "         14,  15,  16,  17,  18,  19,  21,  22,  23,  25,  27,  28,  29,\n",
       "         30,  31,  33,  34,  35,  36,  38,  39,  40,  41,  42,  43,  44,\n",
       "         45,  46,  47,  49,  50,  51,  52,  53,  54,  55,  57,  58,  59,\n",
       "         60,  61,  62,  63,  64,  65,  66,  67,  68,  69,  70,  71,  72,\n",
       "         73,  74,  75,  76,  77,  78,  79,  80,  81,  82,  84,  85,  86,\n",
       "         87,  88,  89,  92,  93,  94,  95,  96,  97,  98,  99, 100, 101,\n",
       "        102, 103, 104, 105, 106, 107, 108, 109, 110, 111, 112, 113, 114,\n",
       "        119, 120, 121, 129], dtype=int64),\n",
       " array([1], dtype=int64),\n",
       " array([0, 1], dtype=int64),\n",
       " array([  1,   2,   3,   4,   5,   6,   7,   8,   9,  10,  11,  12,  13,\n",
       "         14,  15,  16,  17,  18,  19,  21,  22,  23,  25,  27,  28,  29,\n",
       "         30,  31,  33,  34,  35,  36,  37,  38,  39,  40,  41,  42,  43,\n",
       "         44,  45,  46,  47,  49,  50,  51,  52,  53,  54,  55,  57,  58,\n",
       "         59,  60,  61,  63,  64,  65,  66,  67,  68,  69,  70,  72,  73,\n",
       "         74,  75,  76,  77,  78,  79,  80,  81,  82,  83,  84,  85,  86,\n",
       "         87,  88,  89,  90,  92,  93,  94,  95,  96,  97,  98,  99, 100,\n",
       "        101, 102, 104, 105, 106, 107, 108, 109, 110, 111, 112, 113, 114,\n",
       "        119, 120, 121, 129], dtype=int64),\n",
       " array([1], dtype=int64),\n",
       " array([0, 1], dtype=int64),\n",
       " array([  1,   2,   3,   4,   6,   7,   8,  10,  11,  12,  13,  15,  16,\n",
       "         17,  18,  19,  21,  22,  23,  25,  27,  28,  29,  33,  34,  35,\n",
       "         36,  38,  39,  40,  41,  42,  43,  44,  45,  46,  47,  49,  50,\n",
       "         51,  52,  54,  55,  57,  58,  59,  60,  61,  63,  65,  67,  68,\n",
       "         69,  70,  72,  73,  74,  75,  76,  77,  78,  79,  80,  81,  82,\n",
       "         85,  86,  88,  89,  93,  94,  95,  96,  98,  99, 101, 102, 104,\n",
       "        106, 107, 109, 111, 112, 113, 114, 120, 129], dtype=int64),\n",
       " array([1], dtype=int64),\n",
       " array([0, 1], dtype=int64),\n",
       " array([  1,   2,   3,   4,   5,   6,   7,   8,   9,  10,  11,  12,  13,\n",
       "         14,  15,  16,  17,  18,  19,  20,  21,  22,  23,  25,  26,  27,\n",
       "         28,  29,  30,  31,  32,  33,  35,  36,  37,  38,  39,  40,  41,\n",
       "         42,  43,  44,  45,  46,  47,  49,  50,  51,  52,  53,  54,  55,\n",
       "         57,  58,  59,  60,  61,  62,  63,  64,  65,  66,  67,  68,  69,\n",
       "         70,  71,  72,  73,  74,  75,  76,  77,  78,  79,  80,  81,  82,\n",
       "         83,  84,  85,  86,  87,  88,  89,  90,  91,  92,  93,  94,  95,\n",
       "         96,  97,  98,  99, 100, 101, 102, 103, 104, 106, 107, 108, 109,\n",
       "        110, 111, 112, 113, 114, 119, 120, 121, 129], dtype=int64),\n",
       " array([1], dtype=int64),\n",
       " array([0, 1], dtype=int64),\n",
       " array([  1,   2,   4,   5,   6,   7,   8,  10,  11,  12,  13,  14,  15,\n",
       "         16,  17,  18,  19,  21,  22,  23,  25,  26,  27,  28,  29,  32,\n",
       "         33,  34,  35,  36,  37,  38,  39,  40,  41,  42,  43,  44,  45,\n",
       "         46,  47,  48,  49,  50,  51,  52,  53,  54,  55,  56,  57,  58,\n",
       "         59,  60,  61,  62,  63,  65,  67,  68,  70,  71,  72,  73,  74,\n",
       "         75,  76,  77,  78,  79,  80,  81,  82,  84,  85,  86,  88,  89,\n",
       "         92,  93,  94,  95,  96,  97,  98,  99, 101, 102, 104, 106, 107,\n",
       "        108, 109, 110, 112, 113, 114, 120, 121, 129], dtype=int64)]"
      ]
     },
     "execution_count": 8,
     "metadata": {},
     "output_type": "execute_result"
    }
   ],
   "source": [
    "enc.categories_"
   ]
  },
  {
   "cell_type": "code",
   "execution_count": 9,
   "metadata": {},
   "outputs": [
    {
     "data": {
      "text/plain": [
       "<1045x2081 sparse matrix of type '<class 'numpy.float64'>'\n",
       "\twith 68970 stored elements in Compressed Sparse Row format>"
      ]
     },
     "execution_count": 9,
     "metadata": {},
     "output_type": "execute_result"
    }
   ],
   "source": [
    "enc.transform(X_train)"
   ]
  },
  {
   "cell_type": "code",
   "execution_count": 10,
   "metadata": {},
   "outputs": [
    {
     "data": {
      "text/plain": [
       "<117x2081 sparse matrix of type '<class 'numpy.float64'>'\n",
       "\twith 7691 stored elements in Compressed Sparse Row format>"
      ]
     },
     "execution_count": 10,
     "metadata": {},
     "output_type": "execute_result"
    }
   ],
   "source": [
    "enc.transform(X_test)"
   ]
  },
  {
   "cell_type": "code",
   "execution_count": 11,
   "metadata": {},
   "outputs": [
    {
     "data": {
      "text/plain": [
       "((1045, 66), (117, 66))"
      ]
     },
     "execution_count": 11,
     "metadata": {},
     "output_type": "execute_result"
    }
   ],
   "source": [
    "X_train.shape, X_test.shape"
   ]
  },
  {
   "cell_type": "code",
   "execution_count": null,
   "metadata": {},
   "outputs": [],
   "source": []
  },
  {
   "cell_type": "code",
   "execution_count": null,
   "metadata": {},
   "outputs": [],
   "source": []
  },
  {
   "cell_type": "markdown",
   "metadata": {},
   "source": [
    "Let's try not splitting the data "
   ]
  },
  {
   "cell_type": "code",
   "execution_count": 14,
   "metadata": {},
   "outputs": [],
   "source": [
    "# Train/Test Split for Validation \n",
    "#from sklearn.model_selection import train_test_split\n",
    "\n",
    "#X_train, X_valid, y_train, y_valid = train_test_split(X_train, y_train, test_size=0.1, random_state=17)\n"
   ]
  },
  {
   "cell_type": "code",
   "execution_count": 21,
   "metadata": {},
   "outputs": [],
   "source": [
    "#X_train.shape, X_valid.shape, y_train.shape, y_valid.shape"
   ]
  },
  {
   "cell_type": "code",
   "execution_count": 22,
   "metadata": {},
   "outputs": [],
   "source": [
    "# Transform data \n",
    "\n",
    "from sklearn.preprocessing import StandardScaler\n",
    "\n",
    "scaler = StandardScaler()\n",
    "scaler.fit(X_train)\n",
    "X_train = scaler.transform(X_train)\n",
    "#X_valid = scaler.transform(X_valid)\n",
    "X_test = scaler.transform(X_test)"
   ]
  },
  {
   "cell_type": "markdown",
   "metadata": {},
   "source": [
    "Fitting the random forest model to the training set. Checking performance as we adjust the number of trees. "
   ]
  },
  {
   "cell_type": "code",
   "execution_count": 23,
   "metadata": {},
   "outputs": [
    {
     "name": "stdout",
     "output_type": "stream",
     "text": [
      "tried 81 estimators\n",
      "tried 171 estimators\n",
      "tried 261 estimators\n",
      "tried 351 estimators\n",
      "tried 441 estimators\n",
      "tried 531 estimators\n",
      "tried 621 estimators\n",
      "tried 711 estimators\n",
      "tried 801 estimators\n",
      "tried 891 estimators\n",
      "tried 981 estimators\n",
      "Wall time: 2min 13s\n"
     ]
    }
   ],
   "source": [
    "%%time \n",
    "from sklearn.ensemble import RandomForestClassifier\n",
    "\n",
    "estimator_number = list(range(1,1001,10))\n",
    "train_scores = []\n",
    "test_scores= []\n",
    "\n",
    "for i in estimator_number:\n",
    "    rfc = RandomForestClassifier(n_estimators=i, n_jobs=4, random_state=17) # n_jobs refers to number of processors to use \n",
    "    rfc.fit(X_train, y_train)\n",
    "    \n",
    "    train_score = rfc.score(X_train, y_train) \n",
    "    test_score = rfc.score(X_test, y_test)\n",
    "    \n",
    "    train_scores.append(train_score)\n",
    "    test_scores.append(test_score)\n",
    "    \n",
    "    if (i % 9== 0):\n",
    "        print(f'tried {i} estimators')"
   ]
  },
  {
   "cell_type": "code",
   "execution_count": 24,
   "metadata": {
    "scrolled": true
   },
   "outputs": [
    {
     "data": {
      "image/png": "[encoded data removed]",
      "text/plain": [
       "<Figure size 432x288 with 1 Axes>"
      ]
     },
     "metadata": {
      "needs_background": "light"
     },
     "output_type": "display_data"
    }
   ],
   "source": [
    "plt.figure()\n",
    "plt.plot(estimator_number, train_scores, c='red', label='train accuracy')\n",
    "plt.plot(estimator_number, test_scores, c='blue', label='valid accuracy')\n",
    "plt.legend()\n",
    "plt.show()"
   ]
  },
  {
   "cell_type": "code",
   "execution_count": null,
   "metadata": {},
   "outputs": [],
   "source": [
    "from sklearn.metrics import roc_auc_score\n",
    "from sklearn.metrics import accuracy_score\n",
    "\n",
    "test_score = roc_auc_score(y_test, y_pred)\n",
    "print('Validation ROC-AUC score:', test_score)\n",
    "\n",
    "\n",
    "test_accuracy = accuracy_score(y_test, y_pred > 0.5)\n",
    "print('Validation accuracy of P>0.5 classifier:', test_accuracy)"
   ]
  },
  {
   "cell_type": "markdown",
   "metadata": {},
   "source": [
    "Hmmm... looks like 10 estimators is best we really need "
   ]
  },
  {
   "cell_type": "code",
   "execution_count": 12,
   "metadata": {},
   "outputs": [
    {
     "data": {
      "text/plain": [
       "RandomForestClassifier(bootstrap=True, ccp_alpha=0.0, class_weight=None,\n",
       "                       criterion='gini', max_depth=None, max_features='auto',\n",
       "                       max_leaf_nodes=None, max_samples=None,\n",
       "                       min_impurity_decrease=0.0, min_impurity_split=None,\n",
       "                       min_samples_leaf=1, min_samples_split=2,\n",
       "                       min_weight_fraction_leaf=0.0, n_estimators=10, n_jobs=4,\n",
       "                       oob_score=False, random_state=17, verbose=0,\n",
       "                       warm_start=False)"
      ]
     },
     "execution_count": 12,
     "metadata": {},
     "output_type": "execute_result"
    }
   ],
   "source": [
    "# Try this once with 10 estimators \n",
    "\n",
    "from sklearn.ensemble import RandomForestClassifier\n",
    "model = RandomForestClassifier(n_estimators=10, n_jobs=4, max_depth=None, random_state=17)\n",
    "model.fit(X_train, y_train)"
   ]
  },
  {
   "cell_type": "code",
   "execution_count": 14,
   "metadata": {},
   "outputs": [],
   "source": [
    "# https://www.kaggle.com/kashnitsky/dota-2-win-prediction-random-forest-starter\n",
    "y_pred = model.predict_proba(X_test)[:, 1]"
   ]
  },
  {
   "cell_type": "code",
   "execution_count": 15,
   "metadata": {},
   "outputs": [
    {
     "data": {
      "text/plain": [
       "array([0.4 , 0.5 , 0.5 , 0.7 , 0.3 , 0.5 , 0.5 , 0.4 , 0.5 , 0.1 , 0.2 ,\n",
       "       0.4 , 0.7 , 0.5 , 0.55, 0.8 , 0.6 , 0.6 , 0.4 , 0.4 , 0.6 , 0.3 ,\n",
       "       0.7 , 0.5 , 0.5 , 0.6 , 0.5 , 0.5 , 0.5 , 0.2 , 0.4 , 0.7 , 0.4 ,\n",
       "       0.4 , 0.5 , 0.2 , 0.3 , 0.3 , 0.3 , 0.7 , 0.7 , 0.7 , 0.4 , 0.6 ,\n",
       "       0.5 , 0.9 , 0.3 , 0.6 , 0.3 , 0.4 , 0.4 , 0.4 , 0.6 , 0.3 , 0.4 ,\n",
       "       0.3 , 0.4 , 0.5 , 0.8 , 0.4 , 0.4 , 0.5 , 0.3 , 0.7 , 0.2 , 0.2 ,\n",
       "       0.5 , 0.3 , 0.6 , 0.8 , 0.5 , 0.4 , 0.3 , 0.5 , 0.6 , 0.5 , 0.6 ,\n",
       "       0.4 , 0.4 , 0.2 , 0.4 , 0.4 , 0.6 , 0.5 , 0.4 , 0.4 , 0.8 , 0.4 ,\n",
       "       0.6 , 0.8 , 0.3 , 0.4 , 0.7 , 0.4 , 0.4 , 0.5 , 0.6 , 0.6 , 0.5 ,\n",
       "       0.5 , 0.5 , 0.3 , 0.3 , 0.5 , 0.8 , 0.8 , 0.5 , 0.8 , 0.3 , 0.6 ,\n",
       "       0.5 , 0.6 , 0.7 , 0.8 , 0.3 , 0.1 , 0.6 ])"
      ]
     },
     "execution_count": 15,
     "metadata": {},
     "output_type": "execute_result"
    }
   ],
   "source": [
    "y_pred"
   ]
  },
  {
   "cell_type": "code",
   "execution_count": 16,
   "metadata": {},
   "outputs": [
    {
     "name": "stdout",
     "output_type": "stream",
     "text": [
      "Validation ROC-AUC score: 0.5655496766607878\n"
     ]
    }
   ],
   "source": [
    "from sklearn.metrics import roc_auc_score\n",
    "\n",
    "test_score = roc_auc_score(y_test, y_pred)\n",
    "print('Validation ROC-AUC score:', test_score)"
   ]
  },
  {
   "cell_type": "code",
   "execution_count": 18,
   "metadata": {},
   "outputs": [
    {
     "name": "stdout",
     "output_type": "stream",
     "text": [
      "Validation accuracy of P>0.5 classifier: 0.5726495726495726\n"
     ]
    }
   ],
   "source": [
    "from sklearn.metrics import accuracy_score\n",
    "\n",
    "test_accuracy = accuracy_score(y_test, y_pred > 0.5)\n",
    "print('Validation accuracy of P>0.5 classifier:', test_accuracy)"
   ]
  },
  {
   "cell_type": "code",
   "execution_count": 20,
   "metadata": {},
   "outputs": [
    {
     "name": "stdout",
     "output_type": "stream",
     "text": [
      "XG Boost score: 0.5128205128205128\n"
     ]
    }
   ],
   "source": [
    "from xgboost import XGBClassifier\n",
    "\n",
    "XGB_model = XGBClassifier(n_jobs=4, random_state=17 )\n",
    "XGB_model.fit(X_train, y_train)\n",
    "print(f\"XG Boost score: {XGB_model.score(X_test, y_test)}\")"
   ]
  },
  {
   "cell_type": "code",
   "execution_count": null,
   "metadata": {},
   "outputs": [],
   "source": []
  },
  {
   "cell_type": "code",
   "execution_count": null,
   "metadata": {},
   "outputs": [],
   "source": []
  },
  {
   "cell_type": "code",
   "execution_count": 23,
   "metadata": {},
   "outputs": [
    {
     "name": "stdout",
     "output_type": "stream",
     "text": [
      "Holdout score:  0.47310243183493006\n"
     ]
    }
   ],
   "source": [
    "# https://www.kaggle.com/vladislavkisin/dota-2-new-approaches-model-comparison-json\n",
    "#Count CV scoring and houldout scoring: \n",
    "holdout_score_1 = roc_auc_score(y_valid, model.predict_proba(X_valid)[:,1])\n",
    "print('Holdout score: ', holdout_score_1)"
   ]
  },
  {
   "cell_type": "code",
   "execution_count": null,
   "metadata": {},
   "outputs": [],
   "source": [
    "cv_score_1 = cross_val_score(model, full_df_mod[:idx_split], y_train, cv=cv, scoring = 'roc_auc') "
   ]
  },
  {
   "cell_type": "code",
   "execution_count": null,
   "metadata": {},
   "outputs": [],
   "source": [
    "# https://www.kaggle.com/vladislavkisin/dota-2-new-approaches-model-comparison-json\n",
    "#New results.\n",
    "print('CV scores: ', cv_score_1)\n",
    "print('CV mean: ', cv_score_1.mean())\n",
    "print('CV std:', cv_score_1.std())\n",
    "print('Holdout score: ', holdout_score_1)\n",
    "print('Better results on CV: ', cv_score_1>cv_score)"
   ]
  }
 ],
 "metadata": {
  "kernelspec": {
   "display_name": "Python 3.7.4 64-bit ('base': conda)",
   "language": "python",
   "name": "python37464bitbasecondaaecb962eeae24e7a8f136b43980c7dc2"
  },
  "language_info": {
   "codemirror_mode": {
    "name": "ipython",
    "version": 3
   },
   "file_extension": ".py",
   "mimetype": "text/x-python",
   "name": "python",
   "nbconvert_exporter": "python",
   "pygments_lexer": "ipython3",
   "version": "3.6.9"
  }
 },
 "nbformat": 4,
 "nbformat_minor": 4
}
